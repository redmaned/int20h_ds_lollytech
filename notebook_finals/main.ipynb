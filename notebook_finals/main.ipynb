{
 "cells": [
  {
   "cell_type": "code",
   "execution_count": 168,
   "metadata": {
    "collapsed": true
   },
   "outputs": [],
   "source": [
    "import pandas as pd\n",
    "import numpy as np"
   ]
  },
  {
   "cell_type": "code",
   "execution_count": 169,
   "outputs": [],
   "source": [
    "orders_df = pd.read_csv(\"orders.csv\")\n",
    "nodes_df = pd.read_csv(\"nodes.csv\")\n",
    "\n",
    "orders_df.running_time = pd.to_datetime(orders_df.running_time, format='%Y-%m-%d %H:%M:%S')\n",
    "orders_df.completed_time = pd.to_datetime(orders_df.completed_time, format='%Y-%m-%d %H:%M:%S')\n",
    "nodes_df.dropna(inplace=True)"
   ],
   "metadata": {
    "collapsed": false
   }
  },
  {
   "cell_type": "code",
   "execution_count": 170,
   "outputs": [],
   "source": [
    "final_test = pd.read_csv(\"final_test.csv\")\n",
    "final_nodes = pd.read_csv(\"nodes_test.csv\")\n",
    "\n",
    "final_test.running_time = pd.to_datetime(final_test.running_time, format='%Y-%m-%d %H:%M:%S')\n",
    "final_nodes.dropna(inplace=True)"
   ],
   "metadata": {
    "collapsed": false
   }
  },
  {
   "cell_type": "code",
   "execution_count": 171,
   "outputs": [],
   "source": [
    "mean_speed_list = []\n",
    "\n",
    "for i in orders_df[\"Id\"]:\n",
    "    mean_speed_list.append(nodes_df[nodes_df[\"Id\"] == i].iloc[0, 4].mean())\n",
    "\n",
    "orders_df[\"mean_nodes_speed\"] = mean_speed_list\n",
    "\n",
    "\n",
    "def day_period(hours):\n",
    "    if 3 <= hours < 7:\n",
    "        return 0\n",
    "    elif 7 <= hours < 12:\n",
    "        return 1\n",
    "    elif 12 <= hours < 18:\n",
    "        return 2\n",
    "    else:\n",
    "        return 3\n",
    "\n",
    "\n",
    "day_period_list = []\n",
    "for i in orders_df[\"Id\"]:\n",
    "    day_period_list.append(day_period(orders_df[orders_df[\"Id\"] == i].iloc[0, 1].hour))\n",
    "\n",
    "orders_df[\"day_period\"] = day_period_list\n",
    "orders_df = orders_df.drop(np.where(orders_df.route_distance_km == 0)[0])"
   ],
   "metadata": {
    "collapsed": false
   }
  },
  {
   "cell_type": "code",
   "execution_count": 172,
   "outputs": [
    {
     "data": {
      "text/plain": "         Id        running_time  route_distance_km  mean_nodes_speed  \\\n0      6198 2022-01-24 03:38:30              4.744              37.0   \n1      6417 2022-01-24 03:45:51              6.279              45.0   \n2      7054 2022-01-24 03:52:14              3.934              40.0   \n3      9628 2022-01-24 04:03:21              5.959              43.0   \n4     10283 2022-01-24 04:01:12              7.028              30.0   \n..      ...                 ...                ...               ...   \n995  525706 2022-01-24 18:46:17              2.897              47.0   \n996  526604 2022-01-24 18:46:44              3.482              17.0   \n997  527213 2022-01-24 18:47:25              3.486              28.0   \n998  527520 2022-01-24 18:52:01              0.703              36.0   \n999  527850 2022-01-24 18:45:20             10.127              56.0   \n\n     day_period  \n0             0  \n1             0  \n2             0  \n3             0  \n4             0  \n..          ...  \n995           3  \n996           3  \n997           3  \n998           3  \n999           3  \n\n[1000 rows x 5 columns]",
      "text/html": "<div>\n<style scoped>\n    .dataframe tbody tr th:only-of-type {\n        vertical-align: middle;\n    }\n\n    .dataframe tbody tr th {\n        vertical-align: top;\n    }\n\n    .dataframe thead th {\n        text-align: right;\n    }\n</style>\n<table border=\"1\" class=\"dataframe\">\n  <thead>\n    <tr style=\"text-align: right;\">\n      <th></th>\n      <th>Id</th>\n      <th>running_time</th>\n      <th>route_distance_km</th>\n      <th>mean_nodes_speed</th>\n      <th>day_period</th>\n    </tr>\n  </thead>\n  <tbody>\n    <tr>\n      <th>0</th>\n      <td>6198</td>\n      <td>2022-01-24 03:38:30</td>\n      <td>4.744</td>\n      <td>37.0</td>\n      <td>0</td>\n    </tr>\n    <tr>\n      <th>1</th>\n      <td>6417</td>\n      <td>2022-01-24 03:45:51</td>\n      <td>6.279</td>\n      <td>45.0</td>\n      <td>0</td>\n    </tr>\n    <tr>\n      <th>2</th>\n      <td>7054</td>\n      <td>2022-01-24 03:52:14</td>\n      <td>3.934</td>\n      <td>40.0</td>\n      <td>0</td>\n    </tr>\n    <tr>\n      <th>3</th>\n      <td>9628</td>\n      <td>2022-01-24 04:03:21</td>\n      <td>5.959</td>\n      <td>43.0</td>\n      <td>0</td>\n    </tr>\n    <tr>\n      <th>4</th>\n      <td>10283</td>\n      <td>2022-01-24 04:01:12</td>\n      <td>7.028</td>\n      <td>30.0</td>\n      <td>0</td>\n    </tr>\n    <tr>\n      <th>...</th>\n      <td>...</td>\n      <td>...</td>\n      <td>...</td>\n      <td>...</td>\n      <td>...</td>\n    </tr>\n    <tr>\n      <th>995</th>\n      <td>525706</td>\n      <td>2022-01-24 18:46:17</td>\n      <td>2.897</td>\n      <td>47.0</td>\n      <td>3</td>\n    </tr>\n    <tr>\n      <th>996</th>\n      <td>526604</td>\n      <td>2022-01-24 18:46:44</td>\n      <td>3.482</td>\n      <td>17.0</td>\n      <td>3</td>\n    </tr>\n    <tr>\n      <th>997</th>\n      <td>527213</td>\n      <td>2022-01-24 18:47:25</td>\n      <td>3.486</td>\n      <td>28.0</td>\n      <td>3</td>\n    </tr>\n    <tr>\n      <th>998</th>\n      <td>527520</td>\n      <td>2022-01-24 18:52:01</td>\n      <td>0.703</td>\n      <td>36.0</td>\n      <td>3</td>\n    </tr>\n    <tr>\n      <th>999</th>\n      <td>527850</td>\n      <td>2022-01-24 18:45:20</td>\n      <td>10.127</td>\n      <td>56.0</td>\n      <td>3</td>\n    </tr>\n  </tbody>\n</table>\n<p>1000 rows × 5 columns</p>\n</div>"
     },
     "execution_count": 172,
     "metadata": {},
     "output_type": "execute_result"
    }
   ],
   "source": [
    "mean_speed_list = []\n",
    "\n",
    "for i in final_test[\"Id\"]:\n",
    "    mean_speed_list.append(final_nodes[final_nodes[\"Id\"] == i].iloc[0, 4].mean())\n",
    "\n",
    "final_test[\"mean_nodes_speed\"] = mean_speed_list\n",
    "\n",
    "\n",
    "def day_period(hours):\n",
    "    if 3 <= hours < 7:\n",
    "        return 0\n",
    "    elif 7 <= hours < 12:\n",
    "        return 1\n",
    "    elif 12 <= hours < 18:\n",
    "        return 2\n",
    "    else:\n",
    "        return 3\n",
    "\n",
    "\n",
    "day_period_list = []\n",
    "for i in final_test[\"Id\"]:\n",
    "    day_period_list.append(day_period(final_test[final_test[\"Id\"] == i].iloc[0, 1].hour))\n",
    "\n",
    "final_test[\"day_period\"] = day_period_list\n",
    "final_test = final_test.drop(np.where(final_test.route_distance_km == 0)[0])\n",
    "final_test"
   ],
   "metadata": {
    "collapsed": false
   }
  },
  {
   "cell_type": "code",
   "execution_count": 173,
   "outputs": [],
   "source": [
    "odesa_df = pd.read_csv(\"nodes/odesa.csv\")\n",
    "nodes_df[\"node_start_lat\"] = nodes_df[\"node_start\"].map(odesa_df.set_index(\"id\")[\"lat\"]).dropna()\n",
    "nodes_df[\"node_start_lon\"] = nodes_df[\"node_start\"].map(odesa_df.set_index(\"id\")[\"lon\"]).dropna()\n",
    "nodes_df.dropna(inplace=True)\n",
    "\n",
    "final_nodes[\"node_start_lat\"] = final_nodes[\"node_start\"].map(odesa_df.set_index(\"id\")[\"lat\"]).dropna()\n",
    "final_nodes[\"node_start_lon\"] = final_nodes[\"node_start\"].map(odesa_df.set_index(\"id\")[\"lon\"]).dropna()\n",
    "final_nodes.dropna(inplace=True)"
   ],
   "metadata": {
    "collapsed": false
   }
  },
  {
   "cell_type": "code",
   "execution_count": 174,
   "outputs": [],
   "source": [
    "mean_lat = nodes_df.groupby(by=\"Id\").apply(lambda df: df[\"node_start_lat\"].mean())\n",
    "mean_lon = nodes_df.groupby(by=\"Id\").apply(lambda df: df[\"node_start_lon\"].mean())\n",
    "orders_df[\"node_start_lat\"] = orders_df[\"Id\"].map(mean_lat)\n",
    "orders_df[\"node_start_lon\"] = orders_df[\"Id\"].map(mean_lon)\n",
    "\n",
    "mean_lat = final_nodes.groupby(by=\"Id\").apply(lambda df: df[\"node_start_lat\"].mean())\n",
    "mean_lon = final_nodes.groupby(by=\"Id\").apply(lambda df: df[\"node_start_lon\"].mean())\n",
    "final_test[\"node_start_lat\"] = final_test[\"Id\"].map(mean_lat)\n",
    "final_test[\"node_start_lon\"] = final_test[\"Id\"].map(mean_lon)"
   ],
   "metadata": {
    "collapsed": false
   }
  },
  {
   "cell_type": "code",
   "execution_count": 175,
   "outputs": [],
   "source": [
    "orders_df.dropna(inplace=True)\n",
    "orders_df[\"mean_speed\"] = orders_df[\"route_distance_km\"] / (orders_df[\"delta_time\"] / 3600)\n",
    "x_train, y_train = orders_df[orders_df.columns].drop(\n",
    "    ['Id', 'completed_time', 'delta_time', \"mean_speed\"], axis=1), orders_df[\"delta_time\"]\n",
    "\n",
    "final_test.dropna(inplace=True)"
   ],
   "metadata": {
    "collapsed": false
   }
  },
  {
   "cell_type": "code",
   "execution_count": 176,
   "outputs": [],
   "source": [
    "x_test = final_test[final_test.columns].drop(\n",
    "    ['Id'], axis=1)\n",
    "\n",
    "SEED = 42\n",
    "from sklearn.metrics import make_scorer, mean_squared_error\n",
    "\n",
    "mse = make_scorer(mean_squared_error, greater_is_better=False)\n",
    "\n",
    "from xgboost import XGBRegressor\n",
    "\n",
    "model_xgb = XGBRegressor(\n",
    "    random_state=SEED,\n",
    "    colsample_bytree=0.9,\n",
    "    learning_rate=0.05,\n",
    "    max_depth=5,\n",
    "    n_estimators=150,\n",
    "    subsample=0.9,\n",
    ")"
   ],
   "metadata": {
    "collapsed": false
   }
  },
  {
   "cell_type": "code",
   "execution_count": 178,
   "outputs": [
    {
     "data": {
      "text/plain": "1000"
     },
     "execution_count": 178,
     "metadata": {},
     "output_type": "execute_result"
    }
   ],
   "source": [
    "test_train_list = []\n",
    "\n",
    "train_pairs = []\n",
    "for i in x_test.index:\n",
    "    xt = x_test.loc[i]\n",
    "\n",
    "    x_tr = x_train[x_train[\"running_time\"] < xt[\"running_time\"]].drop([\"running_time\"], axis=1)\n",
    "    y_tr = y_train[y_train.index.isin(x_tr.index)]\n",
    "\n",
    "    train_pairs.append((x_tr, y_tr, xt))\n",
    "\n",
    "len(train_pairs)"
   ],
   "metadata": {
    "collapsed": false
   }
  },
  {
   "cell_type": "code",
   "execution_count": null,
   "outputs": [],
   "source": [
    "preds = []\n",
    "for pair in train_pairs:\n",
    "    x_tr, y_tr, xt = pair\n",
    "    model = model_xgb.fit(x_tr.astype(\"float\"), y_tr.astype(\"float\"))\n",
    "    prediction = model.predict(xt.to_frame().T.drop([\"running_time\"], axis=1).astype(\"float\"))\n",
    "    print(prediction)\n",
    "    preds.append(prediction)\n",
    "\n",
    "preds_np = np.array(preds)"
   ],
   "metadata": {
    "collapsed": false,
    "pycharm": {
     "is_executing": true
    }
   }
  },
  {
   "cell_type": "code",
   "execution_count": 184,
   "outputs": [
    {
     "data": {
      "text/plain": "         Id\n0      6198\n1      6417\n2      7054\n3      9628\n4     10283\n..      ...\n995  525706\n996  526604\n997  527213\n998  527520\n999  527850\n\n[1000 rows x 1 columns]",
      "text/html": "<div>\n<style scoped>\n    .dataframe tbody tr th:only-of-type {\n        vertical-align: middle;\n    }\n\n    .dataframe tbody tr th {\n        vertical-align: top;\n    }\n\n    .dataframe thead th {\n        text-align: right;\n    }\n</style>\n<table border=\"1\" class=\"dataframe\">\n  <thead>\n    <tr style=\"text-align: right;\">\n      <th></th>\n      <th>Id</th>\n    </tr>\n  </thead>\n  <tbody>\n    <tr>\n      <th>0</th>\n      <td>6198</td>\n    </tr>\n    <tr>\n      <th>1</th>\n      <td>6417</td>\n    </tr>\n    <tr>\n      <th>2</th>\n      <td>7054</td>\n    </tr>\n    <tr>\n      <th>3</th>\n      <td>9628</td>\n    </tr>\n    <tr>\n      <th>4</th>\n      <td>10283</td>\n    </tr>\n    <tr>\n      <th>...</th>\n      <td>...</td>\n    </tr>\n    <tr>\n      <th>995</th>\n      <td>525706</td>\n    </tr>\n    <tr>\n      <th>996</th>\n      <td>526604</td>\n    </tr>\n    <tr>\n      <th>997</th>\n      <td>527213</td>\n    </tr>\n    <tr>\n      <th>998</th>\n      <td>527520</td>\n    </tr>\n    <tr>\n      <th>999</th>\n      <td>527850</td>\n    </tr>\n  </tbody>\n</table>\n<p>1000 rows × 1 columns</p>\n</div>"
     },
     "execution_count": 184,
     "metadata": {},
     "output_type": "execute_result"
    }
   ],
   "source": [
    "ids = final_test.drop(\n",
    "    columns=[\"running_time\", \"route_distance_km\", \"mean_nodes_speed\", \"day_period\", \"node_start_lat\", \"node_start_lon\"])\n",
    "ids"
   ],
   "metadata": {
    "collapsed": false
   }
  },
  {
   "cell_type": "code",
   "execution_count": 185,
   "outputs": [],
   "source": [
    "ids[\"Predicted\"] = preds_np"
   ],
   "metadata": {
    "collapsed": false
   }
  },
  {
   "cell_type": "code",
   "execution_count": 188,
   "outputs": [],
   "source": [
    "ids.to_csv(\"final/final_test.csv\", index=False)"
   ],
   "metadata": {
    "collapsed": false
   }
  }
 ],
 "metadata": {
  "kernelspec": {
   "display_name": "Python 3",
   "language": "python",
   "name": "python3"
  },
  "language_info": {
   "codemirror_mode": {
    "name": "ipython",
    "version": 2
   },
   "file_extension": ".py",
   "mimetype": "text/x-python",
   "name": "python",
   "nbconvert_exporter": "python",
   "pygments_lexer": "ipython2",
   "version": "2.7.6"
  }
 },
 "nbformat": 4,
 "nbformat_minor": 0
}
